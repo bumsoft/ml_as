{
  "nbformat": 4,
  "nbformat_minor": 0,
  "metadata": {
    "colab": {
      "private_outputs": true,
      "provenance": [],
      "toc_visible": true,
      "authorship_tag": "ABX9TyMZZzUB3KGx4/FJ6EWE/5Kd",
      "include_colab_link": true
    },
    "kernelspec": {
      "name": "python3",
      "display_name": "Python 3"
    },
    "language_info": {
      "name": "python"
    }
  },
  "cells": [
    {
      "cell_type": "markdown",
      "metadata": {
        "id": "view-in-github",
        "colab_type": "text"
      },
      "source": [
        "<a href=\"https://colab.research.google.com/github/bumsoft/ml_as/blob/main/Untitled0.ipynb\" target=\"_parent\"><img src=\"https://colab.research.google.com/assets/colab-badge.svg\" alt=\"Open In Colab\"/></a>"
      ]
    },
    {
      "cell_type": "code",
      "execution_count": null,
      "metadata": {
        "collapsed": true,
        "id": "vjRRNeitN-RP"
      },
      "outputs": [],
      "source": [
        "import pandas as pd\n",
        "\n",
        "# 데이터 불러오기\n",
        "df = pd.read_csv('wine.csv', sep=',')\n"
      ]
    },
    {
      "cell_type": "code",
      "source": [
        "from sklearn.model_selection import train_test_split\n",
        "from sklearn.preprocessing import StandardScaler\n",
        "\n",
        "# 특성과 타겟 변수 분리 (마지막 열이 타겟 변수라고 가정)\n",
        "X = df.iloc[:, :-1].values\n",
        "y = df.iloc[:, -1].values\n",
        "\n",
        "# 데이터 정규화\n",
        "scaler = StandardScaler()\n",
        "X = scaler.fit_transform(X)\n",
        "\n",
        "# 학습용과 테스트용 데이터로 분리\n",
        "X_train, X_test, y_train, y_test = train_test_split(X, y, test_size=0.2, random_state=42)\n"
      ],
      "metadata": {
        "id": "hkK1YxnlOdd3"
      },
      "execution_count": null,
      "outputs": []
    },
    {
      "cell_type": "code",
      "source": [
        "import tensorflow as tf\n",
        "from tensorflow.keras.models import Sequential\n",
        "from tensorflow.keras.layers import Dense, Flatten\n",
        "from tensorflow.keras.optimizers import Adam\n",
        "\n",
        "# 모델 구성\n",
        "model = Sequential([\n",
        "    Flatten(input_shape=(X_train.shape[1],)),\n",
        "    Dense(64, activation='relu'),\n",
        "    Dense(32, activation='relu'),\n",
        "    Dense(1, activation='sigmoid')  # 이진 분류를 위한 활성화 함수\n",
        "])\n",
        "\n",
        "# 모델 컴파일\n",
        "model.compile(optimizer=Adam(), loss='binary_crossentropy', metrics=['accuracy'])\n",
        "\n",
        "# 모델 학습\n",
        "history = model.fit(X_train, y_train, epochs=50, validation_data=(X_test, y_test))\n"
      ],
      "metadata": {
        "collapsed": true,
        "id": "DNyM8lKjOgiR"
      },
      "execution_count": null,
      "outputs": []
    },
    {
      "cell_type": "code",
      "source": [
        "# 모델 평가\n",
        "loss, accuracy = model.evaluate(X_test, y_test)\n",
        "print(f\"손실값 : {loss}\")\n",
        "print(f\"정확도: {accuracy}\")\n",
        "\n",
        "# 모델 저장\n",
        "model.save('wine_model.h5')\n",
        "\n",
        "# 모델 불러오기\n",
        "loaded_model = tf.keras.models.load_model('wine_model.h5')\n"
      ],
      "metadata": {
        "id": "F18n4AWhPHxk"
      },
      "execution_count": null,
      "outputs": []
    }
  ]
}