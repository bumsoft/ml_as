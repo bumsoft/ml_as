{
  "nbformat": 4,
  "nbformat_minor": 0,
  "metadata": {
    "colab": {
      "private_outputs": true,
      "provenance": [],
      "authorship_tag": "ABX9TyNI7UyVoYydr6oef6i6/rji",
      "include_colab_link": true
    },
    "kernelspec": {
      "name": "python3",
      "display_name": "Python 3"
    },
    "language_info": {
      "name": "python"
    }
  },
  "cells": [
    {
      "cell_type": "markdown",
      "metadata": {
        "id": "view-in-github",
        "colab_type": "text"
      },
      "source": [
        "<a href=\"https://colab.research.google.com/github/bumsoft/ml_as/blob/main/Untitled.ipynb\" target=\"_parent\"><img src=\"https://colab.research.google.com/assets/colab-badge.svg\" alt=\"Open In Colab\"/></a>"
      ]
    },
    {
      "cell_type": "code",
      "source": [
        "import numpy as np\n",
        "import matplotlib.pyplot as plt\n",
        "import pandas as pd\n",
        "from sklearn.datasets import load_breast_cancer\n",
        "from sklearn.model_selection import train_test_split\n",
        "from sklearn.preprocessing import StandardScaler\n",
        "from sklearn.linear_model import LogisticRegression\n",
        "from sklearn.metrics import accuracy_score, precision_score, recall_score, f1_score, roc_auc_score, RocCurveDisplay, PrecisionRecallDisplay\n",
        "from sklearn.tree import DecisionTreeClassifier\n",
        "from sklearn.ensemble import RandomForestClassifier\n",
        "\n",
        "raw_data = load_breast_cancer()\n",
        "X = raw_data.data\n",
        "y = raw_data.target\n",
        "\n",
        "X_train, X_test, y_train, y_test = train_test_split(X, y, test_size=0.2, random_state=42)\n",
        "\n",
        "# 표준화\n",
        "#scaler = StandardScaler()\n",
        "#X_train = scaler.fit_transform(X_train)\n",
        "#X_test = scaler.transform(X_test)\n",
        "\n",
        "# init model\n",
        "log_reg = LogisticRegression(random_state=13, solver='liblinear', C=10.0)\n",
        "dec_tree = DecisionTreeClassifier(random_state=13)\n",
        "rand_forest = RandomForestClassifier(random_state=13)\n",
        "\n",
        "# train model\n",
        "log_reg.fit(X_train, y_train)\n",
        "dec_tree.fit(X_train, y_train)\n",
        "rand_forest.fit(X_train, y_train)\n",
        "\n",
        "#예측\n",
        "logi_pred = log_reg.predict(X_test)\n",
        "dec_pred = dec_tree.predict(X_test)\n",
        "rand_pred = rand_forest.predict(X_test)\n",
        "\n",
        "# roc예측\n",
        "logi_pred_roc = log_reg.predict_proba(X_test)[:, 1]\n",
        "dec_pred_roc = dec_tree.predict_proba(X_test)[:, 1]\n",
        "rand_pred_roc = rand_forest.predict_proba(X_test)[:, 1]\n",
        "\n",
        "#결과\n",
        "logistic_metrics = {\n",
        "    \"Model\": [\"Logistic Regression\"],\n",
        "    \"accuracy\": [accuracy_score(y_test, logi_pred)],\n",
        "    \"precision\": [precision_score(y_test, logi_pred)],\n",
        "    \"recall\": [recall_score(y_test, logi_pred)],\n",
        "    \"F1 Score\": [f1_score(y_test, logi_pred)],\n",
        "    \"ROC-AUC Score\": [roc_auc_score(y_test, logi_pred_roc)],\n",
        "}\n",
        "\n",
        "decision_metrics = {\n",
        "    \"Model\": [\"Decision Tree\"],\n",
        "    \"accuracy\": [accuracy_score(y_test, dec_pred)],\n",
        "    \"precision\": [precision_score(y_test, dec_pred)],\n",
        "    \"recall\": [recall_score(y_test, dec_pred)],\n",
        "    \"F1 Score\": [f1_score(y_test, dec_pred)],\n",
        "    \"ROC-AUC Score\": [roc_auc_score(y_test, dec_pred_roc)],\n",
        "}\n",
        "\n",
        "randforest_metrics = {\n",
        "    \"Model\": [\"Random Forest\"],\n",
        "    \"accuracy\": [accuracy_score(y_test, rand_pred)],\n",
        "    \"precision\": [precision_score(y_test, rand_pred)],\n",
        "    \"recall\": [recall_score(y_test, rand_pred)],\n",
        "    \"F1 Score\": [f1_score(y_test, rand_pred)],\n",
        "    \"ROC-AUC Score\": [roc_auc_score(y_test, rand_pred_roc)],\n",
        "}\n",
        "\n",
        "\n",
        "metrics_df = pd.concat([pd.DataFrame(logistic_metrics), pd.DataFrame(decision_metrics), pd.DataFrame(randforest_metrics)], ignore_index=True)\n",
        "metrics_df\n"
      ],
      "metadata": {
        "id": "gJaBJHflaN0k"
      },
      "execution_count": null,
      "outputs": []
    },
    {
      "cell_type": "code",
      "source": [
        "# Initialize and train Logistic Regression model\n",
        "log_reg = LogisticRegression(random_state=13, solver='liblinear', C=10.0)\n",
        "log_reg.fit(X_train, y_train)\n",
        "\n",
        "# Plot ROC curve using RocCurveDisplay\n",
        "RocCurveDisplay.from_estimator(log_reg, X_test, y_test)\n",
        "plt.title('ROC Curve for Logistic Regression')\n",
        "plt.show()"
      ],
      "metadata": {
        "id": "JEJUoTYse-Aj"
      },
      "execution_count": null,
      "outputs": []
    },
    {
      "cell_type": "code",
      "source": [
        "# Plot Precision-Recall curve using PrecisionRecallDisplay\n",
        "plt.figure(figsize=(8, 6))\n",
        "PrecisionRecallDisplay.from_estimator(log_reg, X_test, y_test)\n",
        "plt.title('Precision-Recall Curve for Logistic Regression')\n",
        "plt.show()"
      ],
      "metadata": {
        "id": "q9S41cn0fNi9"
      },
      "execution_count": null,
      "outputs": []
    },
    {
      "cell_type": "code",
      "source": [
        "from sklearn.model_selection import train_test_split, GridSearchCV\n",
        "from sklearn.pipeline import Pipeline\n",
        "\n",
        "# 파이프라인 설정\n",
        "pipeline = Pipeline([\n",
        "    ('scaler', StandardScaler()),\n",
        "    ('log_reg', LogisticRegression(max_iter=10000))\n",
        "])\n",
        "\n",
        "# 하이퍼파라미터 그리드 설정\n",
        "param_grid = {\n",
        "    'log_reg__C': [0.1, 1, 10, 100],\n",
        "    'log_reg__solver': ['liblinear', 'saga']\n",
        "}\n",
        "\n",
        "# GridSearchCV 설정\n",
        "grid_search = GridSearchCV(pipeline, param_grid, cv=5, scoring='accuracy')\n",
        "\n",
        "# 모델 학습\n",
        "grid_search.fit(X_train, y_train)\n",
        "\n",
        "\n",
        "# 최적의 모델로 예측\n",
        "best_model = grid_search.best_estimator_\n",
        "y_pred = best_model.predict(X_test)\n",
        "y_pred_prob = best_model.predict_proba(X_test)[:, 1]\n",
        "\n",
        "# 메트릭 계산\n",
        "metrics = {\n",
        "    \"Model\": [\"Logistic Regression with GridSearch\"],\n",
        "    \"Accuracy\": [accuracy_score(y_test, y_pred)],\n",
        "    \"Precision\": [precision_score(y_test, y_pred)],\n",
        "    \"Recall\": [recall_score(y_test, y_pred)],\n",
        "    \"F1 Score\": [f1_score(y_test, y_pred)],\n",
        "    \"ROC-AUC Score\": [roc_auc_score(y_test, y_pred_prob)],\n",
        "}\n",
        "metrics_df = pd.DataFrame(metrics)\n",
        "metrics_df\n"
      ],
      "metadata": {
        "id": "57LA35UYhArE"
      },
      "execution_count": null,
      "outputs": []
    }
  ]
}